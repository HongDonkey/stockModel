{
 "cells": [
  {
   "cell_type": "code",
   "execution_count": 1,
   "metadata": {},
   "outputs": [],
   "source": [
    "import FinanceDataReader as web\n",
    "from datetime import date, timedelta\n",
    "import matplotlib.pyplot as plt\n",
    "import datetime\n",
    "import numpy as np\n",
    "\n",
    "\n",
    "class earningCalc:\n",
    "\n",
    "    # calculate profit\n",
    "    def earning(self, code, buyDate, sellDate):\n",
    "\n",
    "        if sellDate - buyDate > timedelta(720):\n",
    "            return 0,0\n",
    "\n",
    "        stockData = web.DataReader(code, buyDate - timedelta(10),sellDate)\n",
    "        stockData = stockData[stockData['Volume'] != 0]\n",
    "        stockData = stockData.reset_index(drop=False)\n",
    "\n",
    "        print(stockData)\n",
    "        sellPrice = (stockData.loc[stockData['Date'] == str(sellDate)]['Close']).iloc[0]\n",
    "        print(sellPrice)\n",
    "        buyPrice = (stockData.loc[stockData['Date'] == str(buyDate)]['Close']).iloc[0]\n",
    "        print(buyPrice)\n",
    "        gap = sellPrice - buyPrice\n",
    "        rate = np.log(sellPrice/buyPrice)\n",
    "\n",
    "        return gap, rate\n",
    "\n",
    "\n",
    "#ec = earningCalc()\n",
    "#test = ec.earning(\"207940\",date(2018,4,2),date(2018,4,27))\n",
    "#print(test)\n",
    "\n"
   ]
  },
  {
   "cell_type": "code",
   "execution_count": null,
   "metadata": {},
   "outputs": [],
   "source": []
  }
 ],
 "metadata": {
  "kernelspec": {
   "display_name": "Python 3",
   "language": "python",
   "name": "python3"
  },
  "language_info": {
   "codemirror_mode": {
    "name": "ipython",
    "version": 3
   },
   "file_extension": ".py",
   "mimetype": "text/x-python",
   "name": "python",
   "nbconvert_exporter": "python",
   "pygments_lexer": "ipython3",
   "version": "3.8.5"
  }
 },
 "nbformat": 4,
 "nbformat_minor": 4
}
